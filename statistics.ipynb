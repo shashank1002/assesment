{
 "cells": [
  {
   "cell_type": "markdown",
   "id": "cdec0c97",
   "metadata": {},
   "source": [
    "Q-7. The equations of two lines of regression, obtained in a correlation analysis\n",
    "between variables X and Y are as follows:\n",
    "and . 2𝑋 + 3Y − 8 = 0 2𝑌 + 𝑋 − 5 = 0 The variance of 𝑋 = 4 Find the\n",
    "a. Variance of Y\n",
    "b. Coefficient of determination of C and Y\n",
    "c. Standard error of estimate of X on Y and of Y on X."
   ]
  },
  {
   "cell_type": "raw",
   "id": "7e46612a",
   "metadata": {},
   "source": [
    "b. Coefficient of determination of C and Y\n",
    "2X + 3Y - 8 = 0 __ (i)\n",
    "X + 2Y - 5 = 0  __ (ii)\n",
    "\n",
    "from  (i) eq\n",
    "Y = -X/6 + 4/3\n",
    "Y = -0.16X + 1.3\n",
    "\n",
    "from (ii) eq\n",
    "X = -0.5Y + 0.5\n",
    "\n",
    "r^2 = 0.08\n",
    "r = +- 0.28284"
   ]
  },
  {
   "cell_type": "raw",
   "id": "f4274640",
   "metadata": {},
   "source": [
    "a. Variance of Y\n",
    "r(varience of y/varience of x) = -0.5\n",
    "varience of y = 12.4"
   ]
  },
  {
   "cell_type": "code",
   "execution_count": null,
   "id": "abd70161",
   "metadata": {},
   "outputs": [],
   "source": []
  }
 ],
 "metadata": {
  "kernelspec": {
   "display_name": "Python 3 (ipykernel)",
   "language": "python",
   "name": "python3"
  },
  "language_info": {
   "codemirror_mode": {
    "name": "ipython",
    "version": 3
   },
   "file_extension": ".py",
   "mimetype": "text/x-python",
   "name": "python",
   "nbconvert_exporter": "python",
   "pygments_lexer": "ipython3",
   "version": "3.9.13"
  }
 },
 "nbformat": 4,
 "nbformat_minor": 5
}
